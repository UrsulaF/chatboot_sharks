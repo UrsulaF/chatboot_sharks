{
  "nbformat": 4,
  "nbformat_minor": 0,
  "metadata": {
    "colab": {
      "provenance": []
    },
    "kernelspec": {
      "name": "python3",
      "display_name": "Python 3"
    },
    "language_info": {
      "name": "python"
    }
  },
  "cells": [
    {
      "cell_type": "code",
      "execution_count": null,
      "metadata": {
        "colab": {
          "base_uri": "https://localhost:8080/"
        },
        "id": "50u5QkEdDBMM",
        "outputId": "9f6b77f3-13a8-43b5-de9b-28ef8ece131a"
      },
      "outputs": [
        {
          "output_type": "stream",
          "name": "stdout",
          "text": [
            "Requirement already satisfied: tweepy in /usr/local/lib/python3.10/dist-packages (4.13.0)\n",
            "Requirement already satisfied: oauthlib<4,>=3.2.0 in /usr/local/lib/python3.10/dist-packages (from tweepy) (3.2.2)\n",
            "Requirement already satisfied: requests<3,>=2.27.0 in /usr/local/lib/python3.10/dist-packages (from tweepy) (2.27.1)\n",
            "Requirement already satisfied: requests-oauthlib<2,>=1.2.0 in /usr/local/lib/python3.10/dist-packages (from tweepy) (1.3.1)\n",
            "Requirement already satisfied: urllib3<1.27,>=1.21.1 in /usr/local/lib/python3.10/dist-packages (from requests<3,>=2.27.0->tweepy) (1.26.16)\n",
            "Requirement already satisfied: certifi>=2017.4.17 in /usr/local/lib/python3.10/dist-packages (from requests<3,>=2.27.0->tweepy) (2023.5.7)\n",
            "Requirement already satisfied: charset-normalizer~=2.0.0 in /usr/local/lib/python3.10/dist-packages (from requests<3,>=2.27.0->tweepy) (2.0.12)\n",
            "Requirement already satisfied: idna<4,>=2.5 in /usr/local/lib/python3.10/dist-packages (from requests<3,>=2.27.0->tweepy) (3.4)\n"
          ]
        }
      ],
      "source": [
        "!pip install tweepy"
      ]
    },
    {
      "cell_type": "code",
      "source": [
        "import tweepy"
      ],
      "metadata": {
        "id": "CQCSZgLPHX0I"
      },
      "execution_count": null,
      "outputs": []
    },
    {
      "cell_type": "code",
      "source": [
        "import tweepy\n",
        "import time\n",
        "\n",
        "auth = tweepy.OAuthHandler('Eu8gN6bMz77diLkokpf33xC26', 'jDkn1qv6BVQOJU138blI39VXG49r71kxmy4LDnvkMiMM0VdPgr')\n",
        "auth.set_access_token('1670942834646560769-Wa5n4Va16bTRlPFiPIfEGsZWhoEQJR', 'nVaEzI4zakRbgIgqvGPOzUAPzSeLr0OOECEJmchJKO5Hp')\n",
        "\n",
        "api = tweepy.API(auth, wait_on_rate_limit=True)\n",
        "\n",
        "search = 'cação'\n",
        "numero = 500\n",
        "\n",
        "# Lista para armazenar os IDs dos tweets processados\n",
        "tweets_processados = []\n",
        "\n",
        "for tweet in tweepy.Cursor(api.search_tweets, q=search).items(numero):\n",
        "    try:\n",
        "        if tweet.id_str in tweets_processados:\n",
        "            print(\"Tweet já processado. Ignorando...\")\n",
        "            continue\n",
        "\n",
        "        text_lower = tweet.text.lower()\n",
        "        if 'cação' in text_lower and any(word in text_lower for word in ['peixe', 'gostoso', 'comer','moqueca','filé','comi','molho','legumes','mar','frutos']):\n",
        "            reply_text = f\"@{tweet.user.screen_name} CUIDADO!🚫🦈 Cação é na realidade carne de tubarão, além de estar contribuindo para extinção desses animais, ela é uma carne rica em metais pesados que trazem risco para sua saúde. Que tal salmão hoje?\"\n",
        "            api.update_status(status=reply_text, in_reply_to_status_id=tweet.id_str)\n",
        "            print(f\"Tweet enviado para @{tweet.user.screen_name}\")\n",
        "\n",
        "            # Adicionar o ID do tweet à lista de tweets processados\n",
        "            tweets_processados.append(tweet.id_str)\n",
        "\n",
        "        time.sleep(1)\n",
        "    except tweepy.TweepError as e:\n",
        "        print(e.reason)\n",
        "    except StopIteration:\n",
        "        break\n",
        "    except Exception as e:\n",
        "        print(str(e))"
      ],
      "metadata": {
        "id": "pu3zp5ep-fLE"
      },
      "execution_count": null,
      "outputs": []
    }
  ]
}